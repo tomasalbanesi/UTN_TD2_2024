{
 "cells": [
  {
   "cell_type": "markdown",
   "id": "c6df7ed9-18df-44c0-a3bf-6cf415bf2378",
   "metadata": {},
   "source": [
    "<img src=\"./img/logo_UTN.svg\" align=\"right\" width=\"200\" /> \n",
    "\n",
    "## Técnicas Digitales II\n",
    "\n",
    "# Teoría - 2024\n",
    "## Resumen teórico de Parcial N°2 - Free RTOS\n",
    "### Tomas A. Albanesi"
   ]
  },
  {
   "cell_type": "markdown",
   "id": "d1fb911d-f687-4903-bff6-b672a371d7a0",
   "metadata": {},
   "source": [
    "## Introducción a Sistemas Operativos en Tiempo Real"
   ]
  },
  {
   "cell_type": "markdown",
   "id": "99c72501-06f8-4c87-8acd-65f3db799707",
   "metadata": {},
   "source": [
    "Un sistema va a ser un sistema de tiempo real, cuando se define que una operación es correcta no solamente porque es lógicamente correcta,\n",
    "también debe ser realizada antes de un tiempo determinado.\n",
    "\n",
    "Se definen tres tipos de sistemas de tiempo real:\n",
    "\n",
    "- Estrictos (hard real time):\n",
    "- Flexibles (flex real time):\n",
    "- Firmes (firm real time):\n"
   ]
  },
  {
   "cell_type": "markdown",
   "id": "e2d70447-2149-481e-8c7d-22155517cb66",
   "metadata": {},
   "source": [
    "## FreeRTOS (Free Real Time Operating System)"
   ]
  },
  {
   "cell_type": "markdown",
   "id": "da8c7162-03f6-4185-923d-6048a3dd5224",
   "metadata": {},
   "source": [
    "#### Principales características"
   ]
  },
  {
   "cell_type": "markdown",
   "id": "2e163edb-dad4-4d8a-8631-5c769674e51b",
   "metadata": {},
   "source": [
    "- FreeRTOS es un sistema operativo en tiempo real de código abierto.\n",
    "- Se encuentra portado a muchas arquitecturas.\n",
    "- No es necesario pagar licencias por equipo.\n",
    "- En general, consume poca memoria de programa.\n",
    "- Está portado a muchos Cortex-M."
   ]
  },
  {
   "cell_type": "markdown",
   "id": "cae540d2-c11d-42af-a0c3-f91063122287",
   "metadata": {},
   "source": [
    "#### Definiendo tareas en FreeRTOS"
   ]
  },
  {
   "cell_type": "markdown",
   "id": "0ebf49fb-98ae-419b-8155-a8eb725e1624",
   "metadata": {},
   "source": [
    "- FreeRTOS define a cada proceso como tarea.\n",
    "- El código de una Tarea en FreeRTOS se define como una función en C como la de la figura.\n",
    "- Una Tarea de FreeRTOS nunca debe retornar.\n",
    "\n",
    "<img src=\"./img/FreeRTOS_1.png\" align=\"left\" width=\"600\" /> \n"
   ]
  },
  {
   "cell_type": "markdown",
   "id": "a786b79e-5c03-4d98-b4ba-69872fccbc18",
   "metadata": {},
   "source": [
    "#### Estados de las tareas en FreeRTOS"
   ]
  },
  {
   "cell_type": "markdown",
   "id": "b24ca02f-6d5a-40cc-b5f8-127177db3754",
   "metadata": {},
   "source": [
    "- El planificador de RTOS es un planificador del tipo apropiativo (preemptive).\n",
    "- El planificador va a ejecutar la tarea de mayor prioridad que se encuentre en condiciones de ejecutarse.\n",
    "\n",
    "<img src=\"./img/FreeRTOS_2.png\" align=\"left\" width=\"300\" /> "
   ]
  },
  {
   "cell_type": "markdown",
   "id": "d0abff65-e781-4648-a968-b8d3a6a70c3a",
   "metadata": {},
   "source": [
    "#### Crear tareas en FreeRTOS"
   ]
  },
  {
   "cell_type": "markdown",
   "id": "94b62005-2381-45bd-b5ac-a52239e0dc24",
   "metadata": {},
   "source": [
    "Para crear tareas en FreeRTOS, utilizaremos la función **xTaskCreate()**:"
   ]
  },
  {
   "cell_type": "markdown",
   "id": "5b912c30-f76e-4960-800b-965cd99ac2d3",
   "metadata": {},
   "source": [
    "```c\n",
    "portBASE_TYPE xTaskCreate( pdTASK_CODE pvTaskCode,\n",
    "                            const signed portCHAR * const pcName,\n",
    "                            unsigned portSHORT usStackDepth,\n",
    "                            void *pvParameters,\n",
    "                            unsigned portBASE_TYPE uxPriority,\n",
    "                            xTaskHandle *pxCreatedTask\n",
    "                        );"
   ]
  },
  {
   "cell_type": "markdown",
   "id": "e143d0e0-c058-4117-995b-c4eec82e5d47",
   "metadata": {},
   "source": [
    "Podemos ver el siguiente ejemplo básico:\n",
    "\n"
   ]
  },
  {
   "cell_type": "markdown",
   "id": "59e5bfcf-8462-4e43-a22a-28a6b18a948f",
   "metadata": {},
   "source": [
    "#### Crear tareas en FreeRTOS"
   ]
  },
  {
   "cell_type": "markdown",
   "id": "de0e8275-b827-44b8-bb3a-ce26c8e175f9",
   "metadata": {},
   "source": []
  },
  {
   "cell_type": "markdown",
   "id": "469d250e-9f37-4a81-92e4-c871675a3999",
   "metadata": {},
   "source": [
    "## Sincronización entre tareas"
   ]
  },
  {
   "cell_type": "code",
   "execution_count": null,
   "id": "1f2fee9b-06f0-48af-8156-a00e3bde6600",
   "metadata": {},
   "outputs": [],
   "source": []
  }
 ],
 "metadata": {
  "kernelspec": {
   "display_name": "Python 3 (ipykernel)",
   "language": "python",
   "name": "python3"
  },
  "language_info": {
   "codemirror_mode": {
    "name": "ipython",
    "version": 3
   },
   "file_extension": ".py",
   "mimetype": "text/x-python",
   "name": "python",
   "nbconvert_exporter": "python",
   "pygments_lexer": "ipython3",
   "version": "3.12.4"
  }
 },
 "nbformat": 4,
 "nbformat_minor": 5
}
